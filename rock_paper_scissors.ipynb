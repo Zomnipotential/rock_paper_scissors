{
 "cells": [
  {
   "cell_type": "code",
   "execution_count": 4,
   "id": "95ac5ece",
   "metadata": {},
   "outputs": [
    {
     "name": "stdout",
     "output_type": "stream",
     "text": [
      "To begin with, remember that: Rock wins over Scissors, which wins over Paper, which wins over Rock...\n"
     ]
    },
    {
     "ename": "NameError",
     "evalue": "name 'options' is not defined",
     "output_type": "error",
     "traceback": [
      "\u001b[0;31m---------------------------------------------------------------------------\u001b[0m",
      "\u001b[0;31mNameError\u001b[0m                                 Traceback (most recent call last)",
      "Cell \u001b[0;32mIn[4], line 13\u001b[0m\n\u001b[1;32m      1\u001b[0m \u001b[39m'''\u001b[39;00m\n\u001b[1;32m      2\u001b[0m \u001b[39mThe first working version. The simplest, yet complete, implementation.\u001b[39;00m\n\u001b[1;32m      3\u001b[0m \n\u001b[0;32m   (...)\u001b[0m\n\u001b[1;32m      9\u001b[0m \u001b[39m- Every now and then bring up the stats and mock the user if you're ahead, or if you have won over the user before\u001b[39;00m\n\u001b[1;32m     10\u001b[0m \u001b[39m'''\u001b[39;00m\n\u001b[1;32m     12\u001b[0m \u001b[39mprint\u001b[39m(\u001b[39m'\u001b[39m\u001b[39mTo begin with, remember that: Rock wins over Scissors, which wins over Paper, which wins over Rock...\u001b[39m\u001b[39m'\u001b[39m)\n\u001b[0;32m---> 13\u001b[0m \u001b[39mprint\u001b[39m(\u001b[39mf\u001b[39m\u001b[39m'\u001b[39m\u001b[39m{\u001b[39;00moptions[\u001b[39m0\u001b[39m]\u001b[39m}\u001b[39;00m\u001b[39m (1),  \u001b[39m\u001b[39m{\u001b[39;00moptions[\u001b[39m1\u001b[39m]\u001b[39m}\u001b[39;00m\u001b[39m(2),  \u001b[39m\u001b[39m{\u001b[39;00moptions[\u001b[39m2\u001b[39m]\u001b[39m}\u001b[39;00m\u001b[39m (3)?\u001b[39m\u001b[39m'\u001b[39m)\n\u001b[1;32m     14\u001b[0m \u001b[39mprint\u001b[39m(\u001b[39m\"\u001b[39m\u001b[39mR U Ready?\u001b[39m\u001b[39m\\n\u001b[39;00m\u001b[39mLet\u001b[39m\u001b[39m'\u001b[39m\u001b[39ms rock!\u001b[39m\u001b[39m\"\u001b[39m)\n\u001b[1;32m     16\u001b[0m \u001b[39m# Alternatives to choose from\u001b[39;00m\n",
      "\u001b[0;31mNameError\u001b[0m: name 'options' is not defined"
     ]
    }
   ],
   "source": [
    "'''\n",
    "The first working version. The simplest, yet complete, implementation.\n",
    "\n",
    "To Do:\n",
    "- Make a wrapper to check if the input is correct\n",
    "- Make it tolerable of changed number of options\n",
    "- Skip the while\n",
    "- Save the result for each separate session in a file, stamped with date and time\n",
    "- Every now and then bring up the stats and mock the user if you're ahead, or if you have won over the user before\n",
    "'''\n",
    "\n",
    "# Alternatives to choose from\n",
    "options = ['Paper', 'Scissors', 'Rock']\n",
    "def pick_winner(my_pick, user_pick):\n",
    "    if user_pick == 2 and my_pick == 0:\n",
    "        return 'I win'\n",
    "    elif user_pick == 0 and my_pick == 2:\n",
    "        return 'You win'\n",
    "    else:\n",
    "        if my_pick == user_pick:\n",
    "            return 'nobody wins'\n",
    "        if my_pick > user_pick:\n",
    "            return 'I win'\n",
    "        else:\n",
    "            return 'You win'\n",
    "\n",
    "import random\n",
    "\n",
    "print('To begin with, remember that: Rock wins over Scissors, which wins over Paper, which wins over Rock...')\n",
    "print(f'{options[0]} (1),  {options[1]}(2),  {options[2]} (3)?')\n",
    "print(\"R U Ready?\\nLet's rock!\")\n",
    "\n",
    "while True:\n",
    "    # computer makes its choice\n",
    "    my_pick = random.randint(0,len(options)-1)\n",
    "\n",
    "    # computer asks me to make a choice\n",
    "    user_pick = int(input(\"... and you choose: \"))-1\n",
    "    \n",
    "    # I do the rest and find out who's the winner\n",
    "    print(f'You {options[user_pick]}, me {options[my_pick]}, {pick_winner(my_pick, user_pick)}')"
   ]
  },
  {
   "cell_type": "code",
   "execution_count": null,
   "id": "b580d948",
   "metadata": {},
   "outputs": [],
   "source": []
  }
 ],
 "metadata": {
  "kernelspec": {
   "display_name": "Python 3 (ipykernel)",
   "language": "python",
   "name": "python3"
  },
  "language_info": {
   "codemirror_mode": {
    "name": "ipython",
    "version": 3
   },
   "file_extension": ".py",
   "mimetype": "text/x-python",
   "name": "python",
   "nbconvert_exporter": "python",
   "pygments_lexer": "ipython3",
   "version": "3.11.2"
  }
 },
 "nbformat": 4,
 "nbformat_minor": 5
}
